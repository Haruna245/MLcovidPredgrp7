{
  "cells": [
    {
      "cell_type": "code",
      "execution_count": null,
      "id": "5412750c",
      "metadata": {
        "id": "5412750c"
      },
      "outputs": [],
      "source": [
        "# importing models \n",
        "\n",
        "import pandas as pd\n",
        "import matplotlib.pyplot as plt\n",
        "import seaborn as sns\n",
        "from sklearn.linear_model import LogisticRegression\n",
        "from sklearn.neighbors import KNeighborsClassifier\n",
        "from sklearn.tree import DecisionTreeClassifier"
      ]
    },
    {
      "cell_type": "code",
      "execution_count": null,
      "id": "0da86720",
      "metadata": {
        "colab": {
          "base_uri": "https://localhost:8080/",
          "height": 386
        },
        "id": "0da86720",
        "outputId": "f23545c0-544d-430b-c952-f07dfa6e5398"
      },
      "outputs": [
        {
          "output_type": "execute_result",
          "data": {
            "text/plain": [
              "         Date                                        ID  y   Age Sex  \\\n",
              "0  2019-11-01  031c2dbbb442fbf34f10b8ae8c449f20e3e28879  0  52.3   F   \n",
              "1  2019-11-01  07cc82b2ac0e5f5c9506f66925c2fab9a49bb2bd  0  58.3   M   \n",
              "2  2019-11-01  0beed42a87bf4a0727f371273d6fb50610da2ede  0  69.3   M   \n",
              "3  2019-11-01  10af03c78251959c15d84bb8118f8dc38121ce8a  0  29.3   M   \n",
              "4  2019-11-01  10b7bd07f47e984a595b2b5be1e0500265964123  0  38.3   M   \n",
              "\n",
              "   Hematocrit  Hemoglobin  RedBloodCells  Leukocytes  Platelets  ...  \\\n",
              "0        36.8        12.9           4.25        6.13        220  ...   \n",
              "1        44.4        14.9           4.89        5.99        148  ...   \n",
              "2        39.7        13.5           4.44        7.42        130  ...   \n",
              "3        40.3        14.3           4.71        6.03        204  ...   \n",
              "4        45.4        15.3           5.37        8.92        157  ...   \n",
              "\n",
              "   Monocytes  Monocytes%  Lymphocytes  Lymphocytes%  Eosinophils  \\\n",
              "0        313         5.1         1833          29.9          270   \n",
              "1        288         4.8          779          13.0           78   \n",
              "2        579         7.8         2078          28.0           89   \n",
              "3        368         6.1         2430          40.3           90   \n",
              "4        517         5.8         1276          14.3           98   \n",
              "\n",
              "   Eosinophils%  Basophils  Basophils%  Neutrophils  Neutrophils%  \n",
              "0           4.4         49         0.8         3653          59.6  \n",
              "1           1.3         30         0.5         4816          80.4  \n",
              "2           1.2         59         0.8         4615          62.2  \n",
              "3           1.5         42         0.7         3087          51.2  \n",
              "4           1.1         18         0.2         7011          78.6  \n",
              "\n",
              "[5 rows x 25 columns]"
            ],
            "text/html": [
              "\n",
              "  <div id=\"df-2c2b11a7-737c-414a-b10e-ac5dd41e6979\">\n",
              "    <div class=\"colab-df-container\">\n",
              "      <div>\n",
              "<style scoped>\n",
              "    .dataframe tbody tr th:only-of-type {\n",
              "        vertical-align: middle;\n",
              "    }\n",
              "\n",
              "    .dataframe tbody tr th {\n",
              "        vertical-align: top;\n",
              "    }\n",
              "\n",
              "    .dataframe thead th {\n",
              "        text-align: right;\n",
              "    }\n",
              "</style>\n",
              "<table border=\"1\" class=\"dataframe\">\n",
              "  <thead>\n",
              "    <tr style=\"text-align: right;\">\n",
              "      <th></th>\n",
              "      <th>Date</th>\n",
              "      <th>ID</th>\n",
              "      <th>y</th>\n",
              "      <th>Age</th>\n",
              "      <th>Sex</th>\n",
              "      <th>Hematocrit</th>\n",
              "      <th>Hemoglobin</th>\n",
              "      <th>RedBloodCells</th>\n",
              "      <th>Leukocytes</th>\n",
              "      <th>Platelets</th>\n",
              "      <th>...</th>\n",
              "      <th>Monocytes</th>\n",
              "      <th>Monocytes%</th>\n",
              "      <th>Lymphocytes</th>\n",
              "      <th>Lymphocytes%</th>\n",
              "      <th>Eosinophils</th>\n",
              "      <th>Eosinophils%</th>\n",
              "      <th>Basophils</th>\n",
              "      <th>Basophils%</th>\n",
              "      <th>Neutrophils</th>\n",
              "      <th>Neutrophils%</th>\n",
              "    </tr>\n",
              "  </thead>\n",
              "  <tbody>\n",
              "    <tr>\n",
              "      <th>0</th>\n",
              "      <td>2019-11-01</td>\n",
              "      <td>031c2dbbb442fbf34f10b8ae8c449f20e3e28879</td>\n",
              "      <td>0</td>\n",
              "      <td>52.3</td>\n",
              "      <td>F</td>\n",
              "      <td>36.8</td>\n",
              "      <td>12.9</td>\n",
              "      <td>4.25</td>\n",
              "      <td>6.13</td>\n",
              "      <td>220</td>\n",
              "      <td>...</td>\n",
              "      <td>313</td>\n",
              "      <td>5.1</td>\n",
              "      <td>1833</td>\n",
              "      <td>29.9</td>\n",
              "      <td>270</td>\n",
              "      <td>4.4</td>\n",
              "      <td>49</td>\n",
              "      <td>0.8</td>\n",
              "      <td>3653</td>\n",
              "      <td>59.6</td>\n",
              "    </tr>\n",
              "    <tr>\n",
              "      <th>1</th>\n",
              "      <td>2019-11-01</td>\n",
              "      <td>07cc82b2ac0e5f5c9506f66925c2fab9a49bb2bd</td>\n",
              "      <td>0</td>\n",
              "      <td>58.3</td>\n",
              "      <td>M</td>\n",
              "      <td>44.4</td>\n",
              "      <td>14.9</td>\n",
              "      <td>4.89</td>\n",
              "      <td>5.99</td>\n",
              "      <td>148</td>\n",
              "      <td>...</td>\n",
              "      <td>288</td>\n",
              "      <td>4.8</td>\n",
              "      <td>779</td>\n",
              "      <td>13.0</td>\n",
              "      <td>78</td>\n",
              "      <td>1.3</td>\n",
              "      <td>30</td>\n",
              "      <td>0.5</td>\n",
              "      <td>4816</td>\n",
              "      <td>80.4</td>\n",
              "    </tr>\n",
              "    <tr>\n",
              "      <th>2</th>\n",
              "      <td>2019-11-01</td>\n",
              "      <td>0beed42a87bf4a0727f371273d6fb50610da2ede</td>\n",
              "      <td>0</td>\n",
              "      <td>69.3</td>\n",
              "      <td>M</td>\n",
              "      <td>39.7</td>\n",
              "      <td>13.5</td>\n",
              "      <td>4.44</td>\n",
              "      <td>7.42</td>\n",
              "      <td>130</td>\n",
              "      <td>...</td>\n",
              "      <td>579</td>\n",
              "      <td>7.8</td>\n",
              "      <td>2078</td>\n",
              "      <td>28.0</td>\n",
              "      <td>89</td>\n",
              "      <td>1.2</td>\n",
              "      <td>59</td>\n",
              "      <td>0.8</td>\n",
              "      <td>4615</td>\n",
              "      <td>62.2</td>\n",
              "    </tr>\n",
              "    <tr>\n",
              "      <th>3</th>\n",
              "      <td>2019-11-01</td>\n",
              "      <td>10af03c78251959c15d84bb8118f8dc38121ce8a</td>\n",
              "      <td>0</td>\n",
              "      <td>29.3</td>\n",
              "      <td>M</td>\n",
              "      <td>40.3</td>\n",
              "      <td>14.3</td>\n",
              "      <td>4.71</td>\n",
              "      <td>6.03</td>\n",
              "      <td>204</td>\n",
              "      <td>...</td>\n",
              "      <td>368</td>\n",
              "      <td>6.1</td>\n",
              "      <td>2430</td>\n",
              "      <td>40.3</td>\n",
              "      <td>90</td>\n",
              "      <td>1.5</td>\n",
              "      <td>42</td>\n",
              "      <td>0.7</td>\n",
              "      <td>3087</td>\n",
              "      <td>51.2</td>\n",
              "    </tr>\n",
              "    <tr>\n",
              "      <th>4</th>\n",
              "      <td>2019-11-01</td>\n",
              "      <td>10b7bd07f47e984a595b2b5be1e0500265964123</td>\n",
              "      <td>0</td>\n",
              "      <td>38.3</td>\n",
              "      <td>M</td>\n",
              "      <td>45.4</td>\n",
              "      <td>15.3</td>\n",
              "      <td>5.37</td>\n",
              "      <td>8.92</td>\n",
              "      <td>157</td>\n",
              "      <td>...</td>\n",
              "      <td>517</td>\n",
              "      <td>5.8</td>\n",
              "      <td>1276</td>\n",
              "      <td>14.3</td>\n",
              "      <td>98</td>\n",
              "      <td>1.1</td>\n",
              "      <td>18</td>\n",
              "      <td>0.2</td>\n",
              "      <td>7011</td>\n",
              "      <td>78.6</td>\n",
              "    </tr>\n",
              "  </tbody>\n",
              "</table>\n",
              "<p>5 rows × 25 columns</p>\n",
              "</div>\n",
              "      <button class=\"colab-df-convert\" onclick=\"convertToInteractive('df-2c2b11a7-737c-414a-b10e-ac5dd41e6979')\"\n",
              "              title=\"Convert this dataframe to an interactive table.\"\n",
              "              style=\"display:none;\">\n",
              "        \n",
              "  <svg xmlns=\"http://www.w3.org/2000/svg\" height=\"24px\"viewBox=\"0 0 24 24\"\n",
              "       width=\"24px\">\n",
              "    <path d=\"M0 0h24v24H0V0z\" fill=\"none\"/>\n",
              "    <path d=\"M18.56 5.44l.94 2.06.94-2.06 2.06-.94-2.06-.94-.94-2.06-.94 2.06-2.06.94zm-11 1L8.5 8.5l.94-2.06 2.06-.94-2.06-.94L8.5 2.5l-.94 2.06-2.06.94zm10 10l.94 2.06.94-2.06 2.06-.94-2.06-.94-.94-2.06-.94 2.06-2.06.94z\"/><path d=\"M17.41 7.96l-1.37-1.37c-.4-.4-.92-.59-1.43-.59-.52 0-1.04.2-1.43.59L10.3 9.45l-7.72 7.72c-.78.78-.78 2.05 0 2.83L4 21.41c.39.39.9.59 1.41.59.51 0 1.02-.2 1.41-.59l7.78-7.78 2.81-2.81c.8-.78.8-2.07 0-2.86zM5.41 20L4 18.59l7.72-7.72 1.47 1.35L5.41 20z\"/>\n",
              "  </svg>\n",
              "      </button>\n",
              "      \n",
              "  <style>\n",
              "    .colab-df-container {\n",
              "      display:flex;\n",
              "      flex-wrap:wrap;\n",
              "      gap: 12px;\n",
              "    }\n",
              "\n",
              "    .colab-df-convert {\n",
              "      background-color: #E8F0FE;\n",
              "      border: none;\n",
              "      border-radius: 50%;\n",
              "      cursor: pointer;\n",
              "      display: none;\n",
              "      fill: #1967D2;\n",
              "      height: 32px;\n",
              "      padding: 0 0 0 0;\n",
              "      width: 32px;\n",
              "    }\n",
              "\n",
              "    .colab-df-convert:hover {\n",
              "      background-color: #E2EBFA;\n",
              "      box-shadow: 0px 1px 2px rgba(60, 64, 67, 0.3), 0px 1px 3px 1px rgba(60, 64, 67, 0.15);\n",
              "      fill: #174EA6;\n",
              "    }\n",
              "\n",
              "    [theme=dark] .colab-df-convert {\n",
              "      background-color: #3B4455;\n",
              "      fill: #D2E3FC;\n",
              "    }\n",
              "\n",
              "    [theme=dark] .colab-df-convert:hover {\n",
              "      background-color: #434B5C;\n",
              "      box-shadow: 0px 1px 3px 1px rgba(0, 0, 0, 0.15);\n",
              "      filter: drop-shadow(0px 1px 2px rgba(0, 0, 0, 0.3));\n",
              "      fill: #FFFFFF;\n",
              "    }\n",
              "  </style>\n",
              "\n",
              "      <script>\n",
              "        const buttonEl =\n",
              "          document.querySelector('#df-2c2b11a7-737c-414a-b10e-ac5dd41e6979 button.colab-df-convert');\n",
              "        buttonEl.style.display =\n",
              "          google.colab.kernel.accessAllowed ? 'block' : 'none';\n",
              "\n",
              "        async function convertToInteractive(key) {\n",
              "          const element = document.querySelector('#df-2c2b11a7-737c-414a-b10e-ac5dd41e6979');\n",
              "          const dataTable =\n",
              "            await google.colab.kernel.invokeFunction('convertToInteractive',\n",
              "                                                     [key], {});\n",
              "          if (!dataTable) return;\n",
              "\n",
              "          const docLinkHtml = 'Like what you see? Visit the ' +\n",
              "            '<a target=\"_blank\" href=https://colab.research.google.com/notebooks/data_table.ipynb>data table notebook</a>'\n",
              "            + ' to learn more about interactive tables.';\n",
              "          element.innerHTML = '';\n",
              "          dataTable['output_type'] = 'display_data';\n",
              "          await google.colab.output.renderOutput(dataTable, element);\n",
              "          const docLink = document.createElement('div');\n",
              "          docLink.innerHTML = docLinkHtml;\n",
              "          element.appendChild(docLink);\n",
              "        }\n",
              "      </script>\n",
              "    </div>\n",
              "  </div>\n",
              "  "
            ]
          },
          "metadata": {},
          "execution_count": 3
        }
      ],
      "source": [
        "df = pd.read_csv('/content/full_einstein_25col.csv')\n",
        "df.head()\n"
      ]
    },
    {
      "cell_type": "code",
      "execution_count": null,
      "id": "797b67f4",
      "metadata": {
        "id": "797b67f4"
      },
      "outputs": [],
      "source": [
        "# Knowing the dataset we have\n",
        "\n",
        "df.shape"
      ]
    },
    {
      "cell_type": "code",
      "execution_count": null,
      "id": "d291e6a5",
      "metadata": {
        "id": "d291e6a5"
      },
      "outputs": [],
      "source": [
        "df.columns"
      ]
    },
    {
      "cell_type": "code",
      "execution_count": null,
      "id": "3f2bcb82",
      "metadata": {
        "id": "3f2bcb82"
      },
      "outputs": [],
      "source": [
        "df.info()"
      ]
    },
    {
      "cell_type": "code",
      "execution_count": null,
      "id": "50c4bb73",
      "metadata": {
        "id": "50c4bb73"
      },
      "outputs": [],
      "source": [
        "# stroing the targes in result column \n",
        "\n",
        "df['result'] = results\n",
        "\n",
        "del df['y']\n",
        "df.info()"
      ]
    },
    {
      "cell_type": "code",
      "execution_count": null,
      "id": "d3b7d4ff",
      "metadata": {
        "id": "d3b7d4ff"
      },
      "outputs": [],
      "source": [
        "# Checking for missing values \n",
        "\n",
        "df.isnull().sum()"
      ]
    },
    {
      "cell_type": "code",
      "execution_count": null,
      "id": "15ef3b25",
      "metadata": {
        "id": "15ef3b25"
      },
      "outputs": [],
      "source": [
        "# Spliting the dataset into train set and test set\n",
        "\n",
        "from sklearn.model_selection import train_test_split\n",
        "from sklearn.metrics import accuracy_score\n",
        "features= df.columns[4:]\n",
        "\n",
        "\n",
        "X = df[features]\n",
        "y = df['result']\n",
        "\n",
        "\n",
        "X_train, X_test, y_train, y_test = train_test_split(X,y)\n"
      ]
    },
    {
      "cell_type": "code",
      "execution_count": null,
      "id": "bd8fe7c0",
      "metadata": {
        "id": "bd8fe7c0",
        "outputId": "1955de44-30d3-450d-cc86-0452ebfb7eda"
      },
      "outputs": [
        {
          "data": {
            "text/plain": [
              "LogisticRegression(max_iter=10000)"
            ]
          },
          "execution_count": 113,
          "metadata": {},
          "output_type": "execute_result"
        }
      ],
      "source": [
        "# Making prediction using Logistic Regression \n",
        "\n",
        "lr = LogisticRegression(max_iter=10000)\n",
        "\n",
        "lr.fit(X_train,y_train)\n"
      ]
    },
    {
      "cell_type": "code",
      "execution_count": null,
      "id": "d0288bea",
      "metadata": {
        "id": "d0288bea"
      },
      "outputs": [],
      "source": [
        "prediction = lr.predict(X_test)\n"
      ]
    },
    {
      "cell_type": "code",
      "execution_count": null,
      "id": "7383595e",
      "metadata": {
        "id": "7383595e",
        "outputId": "8df2bbdc-ffec-4850-a9a3-21ce1f14bcb4"
      },
      "outputs": [
        {
          "name": "stdout",
          "output_type": "stream",
          "text": [
            "1.0\n"
          ]
        }
      ],
      "source": [
        "# Accuracy Score \n",
        "\n",
        "score=accuracy_score(y_test,prediction)\n",
        "print(score)"
      ]
    },
    {
      "cell_type": "code",
      "source": [
        "#dropping some features from the dataset and assigning it to a new variable\n",
        "new_df = df.drop(['Date'], axis = 1)\n",
        "\n"
      ],
      "metadata": {
        "id": "78vO72LrziNr"
      },
      "id": "78vO72LrziNr",
      "execution_count": null,
      "outputs": []
    },
    {
      "cell_type": "code",
      "source": [
        "#dropping some features from the dataset\n",
        "new_df = df.drop(['ID', 'Sex','Date'], axis = 1)"
      ],
      "metadata": {
        "id": "Wf5UQstBAenZ"
      },
      "id": "Wf5UQstBAenZ",
      "execution_count": null,
      "outputs": []
    },
    {
      "cell_type": "code",
      "source": [
        "y = new_df['y']\n",
        "X=new_df.drop(['y'], axis = 1)\n",
        "X"
      ],
      "metadata": {
        "id": "-NwDIR59Cpbo"
      },
      "id": "-NwDIR59Cpbo",
      "execution_count": null,
      "outputs": []
    },
    {
      "cell_type": "code",
      "source": [
        "#using DecisionTreeAlgorithm Algorithm\n",
        "#making predictions and checking for accuracy of DecisionTreeAlgorithm\n",
        "from sklearn.model_selection import train_test_split\n",
        "from sklearn.metrics import accuracy_score\n",
        "model = DecisionTreeClassifier()\n",
        "X_train,X_test,y_train,y_test = train_test_split(X,y,test_size=0.2)\n",
        "model.fit(X_train,y_train)\n",
        "predictions = model.predict(X_test)\n",
        "predictions\n",
        "for i in range(10):\n",
        "  if i == 0:\n",
        "    print(\"negative\")\n",
        "  else:\n",
        "    print(\"positive\")\n",
        "  print(predictions[i])\n",
        "\n",
        "accuracy=accuracy_score(y_test,predictions)\n",
        "print(\"Model Accuracy\")\n",
        "accuracy"
      ],
      "metadata": {
        "colab": {
          "base_uri": "https://localhost:8080/"
        },
        "id": "9xsSf5j6DnsI",
        "outputId": "ada7647c-1cb9-4380-cd5a-fea7d60b9b87"
      },
      "id": "9xsSf5j6DnsI",
      "execution_count": null,
      "outputs": [
        {
          "output_type": "stream",
          "name": "stdout",
          "text": [
            "negative\n",
            "0\n",
            "positive\n",
            "0\n",
            "positive\n",
            "0\n",
            "positive\n",
            "0\n",
            "positive\n",
            "0\n",
            "positive\n",
            "0\n",
            "positive\n",
            "0\n",
            "positive\n",
            "0\n",
            "positive\n",
            "0\n",
            "positive\n",
            "0\n"
          ]
        },
        {
          "output_type": "execute_result",
          "data": {
            "text/plain": [
              "0.8212461695607763"
            ]
          },
          "metadata": {},
          "execution_count": 61
        }
      ]
    },
    {
      "cell_type": "code",
      "source": [
        "#implementing logistics regression\n",
        "lr = LogisticRegression(max_iter=10000)\n",
        "\n",
        "lr.fit(X_train,y_train)\n",
        "lr_prediction = lr.predict(X_test)\n",
        "lr_prediction\n",
        "lr_accuracy=accuracy_score(y_test,lr_prediction)\n",
        "lr_accuracy"
      ],
      "metadata": {
        "colab": {
          "base_uri": "https://localhost:8080/"
        },
        "id": "R9fx5ZyYIKpz",
        "outputId": "c24e287c-260b-4698-e313-73dfceca56b2"
      },
      "id": "R9fx5ZyYIKpz",
      "execution_count": null,
      "outputs": [
        {
          "output_type": "execute_result",
          "data": {
            "text/plain": [
              "0.8712972420837589"
            ]
          },
          "metadata": {},
          "execution_count": 62
        }
      ]
    },
    {
      "cell_type": "code",
      "source": [
        "# Implementing K-Nearest Neighbors Algorithm\n",
        "#Scaling the dataset \n",
        "from sklearn.preprocessing import StandardScaler\n",
        "scaler = StandardScaler()\n",
        "scaler.fit(X_train)\n",
        "\n",
        "X_train = scaler.transform(X_train)\n",
        "X_test = scaler.transform(X_test)"
      ],
      "metadata": {
        "id": "QmifVAkIMPt7"
      },
      "id": "QmifVAkIMPt7",
      "execution_count": null,
      "outputs": []
    },
    {
      "cell_type": "code",
      "source": [
        "# Implementing K-Nearest Neighbors Algorithm\n",
        "from sklearn.neighbors import KNeighborsClassifier\n",
        "classifier = KNeighborsClassifier(n_neighbors=5)\n",
        "classifier.fit(X_train, y_train)\n",
        "y_pred = classifier.predict(X_test)\n",
        "y_pred\n",
        "#checking accuracy \n",
        "kn_accuracy=accuracy_score(y_test,y_pred)\n",
        "\n",
        "kn_accuracy"
      ],
      "metadata": {
        "colab": {
          "base_uri": "https://localhost:8080/"
        },
        "id": "gNJhakKHQeo4",
        "outputId": "aff91afd-5689-466d-db7a-f832099778b1"
      },
      "id": "gNJhakKHQeo4",
      "execution_count": null,
      "outputs": [
        {
          "output_type": "execute_result",
          "data": {
            "text/plain": [
              "0.8685733741913517"
            ]
          },
          "metadata": {},
          "execution_count": 66
        }
      ]
    }
  ],
  "metadata": {
    "kernelspec": {
      "display_name": "Python 3 (ipykernel)",
      "language": "python",
      "name": "python3"
    },
    "language_info": {
      "codemirror_mode": {
        "name": "ipython",
        "version": 3
      },
      "file_extension": ".py",
      "mimetype": "text/x-python",
      "name": "python",
      "nbconvert_exporter": "python",
      "pygments_lexer": "ipython3",
      "version": "3.9.7"
    },
    "colab": {
      "name": "covid_prediction.ipynb",
      "provenance": []
    }
  },
  "nbformat": 4,
  "nbformat_minor": 5
}