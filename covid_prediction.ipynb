{
 "cells": [
  {
   "cell_type": "code",
   "execution_count": 71,
   "id": "5412750c",
   "metadata": {},
   "outputs": [],
   "source": [
    "# importing models \n",
    "\n",
    "import pandas as pd\n",
    "import matplotlib.pyplot as plt\n",
    "import seaborn as sns\n",
    "from sklearn.linear_model import LogisticRegression\n",
    "from sklearn.neighbors import KNeighborsClassifier\n",
    "from sklearn.tree import DecisionTreeClassifier"
   ]
  },
  {
   "cell_type": "code",
   "execution_count": 72,
   "id": "0da86720",
   "metadata": {},
   "outputs": [],
   "source": [
    "df = pd.read_csv('./covid19/covid.csv')"
   ]
  },
  {
   "cell_type": "code",
   "execution_count": 73,
   "id": "797b67f4",
   "metadata": {},
   "outputs": [
    {
     "data": {
      "text/plain": [
       "(14681, 25)"
      ]
     },
     "execution_count": 73,
     "metadata": {},
     "output_type": "execute_result"
    }
   ],
   "source": [
    "# Knowing the dataset we have\n",
    "\n",
    "df.shape"
   ]
  },
  {
   "cell_type": "code",
   "execution_count": 74,
   "id": "d291e6a5",
   "metadata": {},
   "outputs": [
    {
     "data": {
      "text/plain": [
       "Index(['Date', 'ID', 'y', 'Age', 'Sex', 'Hematocrit', 'Hemoglobin',\n",
       "       'RedBloodCells', 'Leukocytes', 'Platelets', 'MPV', 'MCV', 'MCHC', 'MCH',\n",
       "       'RDW', 'Monocytes', 'Monocytes%', 'Lymphocytes', 'Lymphocytes%',\n",
       "       'Eosinophils', 'Eosinophils%', 'Basophils', 'Basophils%', 'Neutrophils',\n",
       "       'Neutrophils%'],\n",
       "      dtype='object')"
      ]
     },
     "execution_count": 74,
     "metadata": {},
     "output_type": "execute_result"
    }
   ],
   "source": [
    "df.columns"
   ]
  },
  {
   "cell_type": "code",
   "execution_count": 75,
   "id": "3f2bcb82",
   "metadata": {},
   "outputs": [
    {
     "name": "stdout",
     "output_type": "stream",
     "text": [
      "<class 'pandas.core.frame.DataFrame'>\n",
      "RangeIndex: 14681 entries, 0 to 14680\n",
      "Data columns (total 25 columns):\n",
      " #   Column         Non-Null Count  Dtype  \n",
      "---  ------         --------------  -----  \n",
      " 0   Date           14681 non-null  object \n",
      " 1   ID             14681 non-null  object \n",
      " 2   y              14681 non-null  int64  \n",
      " 3   Age            14681 non-null  float64\n",
      " 4   Sex            14681 non-null  object \n",
      " 5   Hematocrit     14681 non-null  float64\n",
      " 6   Hemoglobin     14681 non-null  float64\n",
      " 7   RedBloodCells  14681 non-null  float64\n",
      " 8   Leukocytes     14681 non-null  float64\n",
      " 9   Platelets      14681 non-null  int64  \n",
      " 10  MPV            14681 non-null  float64\n",
      " 11  MCV            14681 non-null  float64\n",
      " 12  MCHC           14681 non-null  float64\n",
      " 13  MCH            14681 non-null  float64\n",
      " 14  RDW            14681 non-null  float64\n",
      " 15  Monocytes      14681 non-null  int64  \n",
      " 16  Monocytes%     14681 non-null  float64\n",
      " 17  Lymphocytes    14681 non-null  int64  \n",
      " 18  Lymphocytes%   14681 non-null  float64\n",
      " 19  Eosinophils    14681 non-null  int64  \n",
      " 20  Eosinophils%   14681 non-null  float64\n",
      " 21  Basophils      14681 non-null  int64  \n",
      " 22  Basophils%     14681 non-null  float64\n",
      " 23  Neutrophils    14681 non-null  int64  \n",
      " 24  Neutrophils%   14681 non-null  float64\n",
      "dtypes: float64(15), int64(7), object(3)\n",
      "memory usage: 2.8+ MB\n"
     ]
    }
   ],
   "source": [
    "df.info()"
   ]
  },
  {
   "cell_type": "code",
   "execution_count": 76,
   "id": "50c4bb73",
   "metadata": {},
   "outputs": [
    {
     "name": "stdout",
     "output_type": "stream",
     "text": [
      "<class 'pandas.core.frame.DataFrame'>\n",
      "RangeIndex: 14681 entries, 0 to 14680\n",
      "Data columns (total 25 columns):\n",
      " #   Column         Non-Null Count  Dtype  \n",
      "---  ------         --------------  -----  \n",
      " 0   Date           14681 non-null  object \n",
      " 1   ID             14681 non-null  object \n",
      " 2   Age            14681 non-null  float64\n",
      " 3   Sex            14681 non-null  object \n",
      " 4   Hematocrit     14681 non-null  float64\n",
      " 5   Hemoglobin     14681 non-null  float64\n",
      " 6   RedBloodCells  14681 non-null  float64\n",
      " 7   Leukocytes     14681 non-null  float64\n",
      " 8   Platelets      14681 non-null  int64  \n",
      " 9   MPV            14681 non-null  float64\n",
      " 10  MCV            14681 non-null  float64\n",
      " 11  MCHC           14681 non-null  float64\n",
      " 12  MCH            14681 non-null  float64\n",
      " 13  RDW            14681 non-null  float64\n",
      " 14  Monocytes      14681 non-null  int64  \n",
      " 15  Monocytes%     14681 non-null  float64\n",
      " 16  Lymphocytes    14681 non-null  int64  \n",
      " 17  Lymphocytes%   14681 non-null  float64\n",
      " 18  Eosinophils    14681 non-null  int64  \n",
      " 19  Eosinophils%   14681 non-null  float64\n",
      " 20  Basophils      14681 non-null  int64  \n",
      " 21  Basophils%     14681 non-null  float64\n",
      " 22  Neutrophils    14681 non-null  int64  \n",
      " 23  Neutrophils%   14681 non-null  float64\n",
      " 24  result         14681 non-null  int64  \n",
      "dtypes: float64(15), int64(7), object(3)\n",
      "memory usage: 2.8+ MB\n"
     ]
    }
   ],
   "source": [
    "# stroing the targes in result column \n",
    "\n",
    "df['result'] = results\n",
    "\n",
    "del df['y']\n",
    "df.info()"
   ]
  },
  {
   "cell_type": "code",
   "execution_count": 77,
   "id": "d3b7d4ff",
   "metadata": {},
   "outputs": [
    {
     "data": {
      "text/plain": [
       "Date             0\n",
       "ID               0\n",
       "Age              0\n",
       "Sex              0\n",
       "Hematocrit       0\n",
       "Hemoglobin       0\n",
       "RedBloodCells    0\n",
       "Leukocytes       0\n",
       "Platelets        0\n",
       "MPV              0\n",
       "MCV              0\n",
       "MCHC             0\n",
       "MCH              0\n",
       "RDW              0\n",
       "Monocytes        0\n",
       "Monocytes%       0\n",
       "Lymphocytes      0\n",
       "Lymphocytes%     0\n",
       "Eosinophils      0\n",
       "Eosinophils%     0\n",
       "Basophils        0\n",
       "Basophils%       0\n",
       "Neutrophils      0\n",
       "Neutrophils%     0\n",
       "result           0\n",
       "dtype: int64"
      ]
     },
     "execution_count": 77,
     "metadata": {},
     "output_type": "execute_result"
    }
   ],
   "source": [
    "# Checking for missing values \n",
    "\n",
    "df.isnull().sum()"
   ]
  },
  {
   "cell_type": "code",
   "execution_count": 110,
   "id": "15ef3b25",
   "metadata": {},
   "outputs": [],
   "source": [
    "# Spliting the dataset into train set and test set\n",
    "\n",
    "from sklearn.model_selection import train_test_split\n",
    "from sklearn.metrics import accuracy_score\n",
    "features= df.columns[4:]\n",
    "\n",
    "\n",
    "X = df[features]\n",
    "y = df['result']\n",
    "\n",
    "\n",
    "X_train, X_test, y_train, y_test = train_test_split(X,y)\n"
   ]
  },
  {
   "cell_type": "code",
   "execution_count": 113,
   "id": "bd8fe7c0",
   "metadata": {},
   "outputs": [
    {
     "data": {
      "text/plain": [
       "LogisticRegression(max_iter=10000)"
      ]
     },
     "execution_count": 113,
     "metadata": {},
     "output_type": "execute_result"
    }
   ],
   "source": [
    "# Making prediction using Logistic Regression \n",
    "\n",
    "lr = LogisticRegression(max_iter=10000)\n",
    "\n",
    "lr.fit(X_train,y_train)\n"
   ]
  },
  {
   "cell_type": "code",
   "execution_count": 114,
   "id": "d0288bea",
   "metadata": {},
   "outputs": [],
   "source": [
    "prediction = lr.predict(X_test)\n"
   ]
  },
  {
   "cell_type": "code",
   "execution_count": 117,
   "id": "7383595e",
   "metadata": {},
   "outputs": [
    {
     "name": "stdout",
     "output_type": "stream",
     "text": [
      "1.0\n"
     ]
    }
   ],
   "source": [
    "# Accuracy Score \n",
    "\n",
    "score=accuracy_score(y_test,prediction)\n",
    "print(score)"
   ]
  }
 ],
 "metadata": {
  "kernelspec": {
   "display_name": "Python 3 (ipykernel)",
   "language": "python",
   "name": "python3"
  },
  "language_info": {
   "codemirror_mode": {
    "name": "ipython",
    "version": 3
   },
   "file_extension": ".py",
   "mimetype": "text/x-python",
   "name": "python",
   "nbconvert_exporter": "python",
   "pygments_lexer": "ipython3",
   "version": "3.9.7"
  }
 },
 "nbformat": 4,
 "nbformat_minor": 5
}
